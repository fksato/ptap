{
 "cells": [
  {
   "cell_type": "code",
   "execution_count": 68,
   "metadata": {},
   "outputs": [
    {
     "data": {
      "text/plain": [
       "<module 'TurkMonitor' from '/Users/michaellee/Dropbox (MIT)/TurkMonitor/TurkMonitor/__init__.pyc'>"
      ]
     },
     "execution_count": 68,
     "metadata": {},
     "output_type": "execute_result"
    }
   ],
   "source": [
    "import TurkMonitor\n",
    "reload(TurkMonitor)"
   ]
  },
  {
   "cell_type": "code",
   "execution_count": 35,
   "metadata": {},
   "outputs": [],
   "source": [
    "SESSION_PACKAGE = {\n",
    "    \"ENVIRONMENT\": {\n",
    "        \"action_event_type\": [\n",
    "            \"mouseup\", \n",
    "            \"touchstart\", \n",
    "            \"touchmove\"\n",
    "        ], \n",
    "        \"bonusUSDPerCorrect\": 0.0005, \n",
    "        \"instructionsDialogueString\": \"<ul><p><text style=\\\"font-weight:bold; font-size:large\\\">Thank you for your interest and contributing to research at at MIT!</text><pi><li>Please use the latest version of <b>Google Chrome</b> to work on this HIT. It may not work correctly on other browsers.<p><li>You will be presented with rapidly flashed images. <b>Your task is to figure out where to click on parts of the screen based on the information in the images.</b><p><li>The sound of a bell means you did something right, and received a small bonus reward.<p><li>Each trial begins with a <b>WHITE DOT</b>. Click the dot to begin the trial.<p><li>The HIT will submit <b>AUTOMATICALLY</b> after a certain number of trials. If the HIT freezes or does not submit, please contact us to resolve the issue and receive compensation for your time.<p><text style=\\\"color:#7A7A7A; font-size:smaller; font-style:italic\\\">If you cannot meet these requirements or if doing so could cause discomfort or injury, do not accept this HIT. You will not be penalized in any way.</text></ul>\", \n",
    "        \"juiceRewardPer1000Trials\": 250, \n",
    "        \"playspace_degreesVisualAngle\": 24, \n",
    "        \"playspace_verticalOffsetInches\": 0, \n",
    "        \"playspace_viewingDistanceInches\": 8, \n",
    "        \"primary_reinforcer_type\": \"monetary\", \n",
    "        \"rigEnvironment\": \"mechanicalturk\", \n",
    "        \"screen_virtualPixelsPerInch\": 143.755902965\n",
    "    }, \n",
    "    \"GAME_PACKAGE\": {\n",
    "        \"GAME\": {\n",
    "            \"gameId\": \"example_MechanicalTurk_SR\", \n",
    "            \"minimumSteps\": 3 * 10, \n",
    "            \"onFinish\": \"continue\", \n",
    "            \"periodicRewardAmount\": 0, \n",
    "            \"periodicRewardIntervalMsec\": 0\n",
    "        }, \n",
    "        \"IMAGE_TABLE\": {\n",
    "            \"dog1\":  \"https://s3.amazonaws.com/milresources/Images/MonkeyTurkSets/objectome/images/objectome_dog_e1ed016de5e47e8a6567123ce134d72b7187db73_ty0.43294_tz-0.29943_rxy-112.6794_rxz75.5665_ryz127.211_s1.6328.png\", \n",
    "            \"dog2\":\n",
    "                \"https://s3.amazonaws.com/milresources/Images/MonkeyTurkSets/objectome/images/objectome_dog_28ebb7db56691da21fa6d640f5ef719f916cb7ff_ty-0.48998_tz-0.20078_rxy-84.7937_rxz-117.8076_ryz175.5429_s1.3151.png\",\n",
    "            \"flute1\":\n",
    "                \"https://s3.amazonaws.com/milresources/Images/MonkeyTurkSets/objectome/images/objectome_flute_e0aed0e2c3f0c3cb7a7e235bd931f193a536391d_ty-0.85987_tz-0.38018_rxy-36.131_rxz152.6439_ryz28.9932_s1.4314.png\",\n",
    "            \"flute2\": \n",
    "                \"https://s3.amazonaws.com/milresources/Images/MonkeyTurkSets/objectome/images/objectome_flute_2012a31313faa422b2623460d0c33a9f5eb3b238_ty-0.33547_tz-0.0026731_rxy-38.2159_rxz-115.311_ryz90.0954_s1.3508.png\", \n",
    "            \"pineapple1\": \"https://s3.amazonaws.com/milresources/Images/MonkeyTurkSets/objectome/images/objectome_pineapple_5946318bc2cdd1947534ae15d43aa7a0d820506e_ty-0.64759_tz0.33642_rxy-5.6836_rxz-71.4586_ryz62.4466_s1.169.png\", \n",
    "            \"pineapple2\":\"https://s3.amazonaws.com/milresources/Images/MonkeyTurkSets/objectome/images/objectome_pineapple_c50790daa826f1d3fbed5580820c6c91fdded273_ty-0.57074_tz0.84081_rxy-157.3224_rxz64.5421_ryz167.7568_s0.86084.png\", \n",
    "            \"dog3\":\"https://s3.amazonaws.com/milresources/Images/MonkeyTurkSets/objectome_tokens/images/objectomeTokens_objectome_dog.png\", \n",
    "            \"flute3\":\"https://s3.amazonaws.com/milresources/Images/MonkeyTurkSets/objectome_tokens/images/objectomeTokens_objectome_flute.png\", \n",
    "            \"pineapple3\":\"https://s3.amazonaws.com/milresources/Images/MonkeyTurkSets/objectome_tokens/images/objectomeTokens_objectome_pineapple.png\"\n",
    "        }, \n",
    "        \"TASK_SEQUENCE\": [\n",
    "            {   \n",
    "                \"imageBags\":{\"stimulus_objectome_dog\": ['dog1', 'dog2'], \n",
    "                             \"stimulus_objectome_flute\": ['flute1', 'flute2'], \n",
    "                            \"stimulus_objectome_pineapple\": ['pineapple1', 'pineapple2'], \n",
    "                            \"token_objectome_dog\": 'dog3', \n",
    "                            \"token_objectome_flute\": 'flute3', \n",
    "                            \"token_objectome_pineapple\": 'pineapple3'}, \n",
    "\n",
    "                \"actionDiameterDegrees\": [\n",
    "                    6, \n",
    "                    6\n",
    "                ], \n",
    "\n",
    "                \"actionXCentroid\": [\n",
    "                    0.3, \n",
    "                    0.7\n",
    "                ], \n",
    "                \"actionYCentroid\": [\n",
    "                    0.8, \n",
    "                    0.8\n",
    "                ], \n",
    "                \"averageReturnCriterion\": 0.8, \n",
    "                \"choiceDiameterDegrees\": [\n",
    "                    4, \n",
    "                    4\n",
    "                ], \n",
    "                \"choiceTimeLimitMsec\": 5000, \n",
    "                \"choiceXCentroid\": [\n",
    "                    0.3, \n",
    "                    0.7\n",
    "                ], \n",
    "                \"choiceYCentroid\": [\n",
    "                    0.8, \n",
    "                    0.8\n",
    "                ], \n",
    "                \"drawEyeFixationDot\": True, \n",
    "                \"fixationDiameterDegrees\": 3, \n",
    "                \"fixationXCentroid\": 0.5, \n",
    "                \"fixationYCentroid\": 0.8, \n",
    "                \"minTrialsCriterion\": 5, \n",
    "                \"probabilityRepeatWhenWrong\": 0, \n",
    "                \"punishStreakTimeOutMultiplier\": 1.2, \n",
    "                \"punishTimeOutMsec\": 400, \n",
    "                \"rewardMap\": {\n",
    "                    \"stimulus_objectome_flute\": [\n",
    "                        0, \n",
    "                        1\n",
    "                    ], \n",
    "                    \"stimulus_objectome_pineapple\": [\n",
    "                        1, \n",
    "                        0\n",
    "                    ]\n",
    "                }, \n",
    "                \"rewardTimeOutMsec\": 150, \n",
    "                \"sampleBagNames\": [\n",
    "                    \"stimulus_objectome_pineapple\", \n",
    "                    \"stimulus_objectome_flute\"\n",
    "                ], \n",
    "                \"sampleDiameterDegrees\": 8, \n",
    "                \"sampleOffMsec\": 0, \n",
    "                \"sampleOnMsec\": 200, \n",
    "                \"sampleSampleWithReplacement\": False, \n",
    "                \"sampleXCentroid\": 0.5, \n",
    "                \"sampleYCentroid\": 0.5, \n",
    "                \"taskType\": \"SR\", \n",
    "                \"taskURL\":\"tasks/StimulusResponse.js\",\n",
    "                \"taskName\":'StimulusResponseGenerator',\n",
    "            }\n",
    "        ]\n",
    "    }}"
   ]
  },
  {
   "cell_type": "code",
   "execution_count": 70,
   "metadata": {},
   "outputs": [
    {
     "data": {
      "text/plain": [
       "<module 'TurkMonitor' from '/Users/michaellee/Dropbox (MIT)/TurkMonitor/TurkMonitor/__init__.pyc'>"
      ]
     },
     "execution_count": 70,
     "metadata": {},
     "output_type": "execute_result"
    },
    {
     "name": "stdout",
     "output_type": "stream",
     "text": [
      "Found preexisting project directory at /Users/michaellee/Dropbox (MIT)/MechanicalTurkExperiments/sandbox/testv2\n",
      "Saved locally to /Users/michaellee/Dropbox (MIT)/MechanicalTurkExperiments/sandbox/testv2/testv2_d2018_05_20_t13_06_16/landingpages/ptap_landing_page_1526835976_0.html\n",
      "Uploaded: ptap_landing_page_1526835976_0.html\n",
      "Uploaded to https://s3.amazonaws.com/ptap2mechanicalturk/landingpages/ptap_landing_page_1526835976_0.html\n",
      "\n",
      "Balance remaining:  {u'AvailableBalance': u'10000.00', 'ResponseMetadata': {'RetryAttempts': 0, 'HTTPStatusCode': 200, 'RequestId': '8b9c63dd-04cd-46d4-9491-e386add14d86', 'HTTPHeaders': {'x-amzn-requestid': '8b9c63dd-04cd-46d4-9491-e386add14d86', 'date': 'Sun, 20 May 2018 17:06:18 GMT', 'content-length': '31', 'content-type': 'application/x-amz-json-1.1'}}} \n",
      "\n",
      "Created HIT 37Y5RYYI0PFMS6BHUO9NUMV6KR5XSC at https://s3.amazonaws.com/ptap2mechanicalturk/landingpages/ptap_landing_page_1526835976_0.html\n",
      "Saved urls at /Users/michaellee/Dropbox (MIT)/MechanicalTurkExperiments/sandbox/testv2/testv2_d2018_05_20_t13_06_16/urls_landing_pages.json\n",
      "Saved HITIds at /Users/michaellee/Dropbox (MIT)/MechanicalTurkExperiments/sandbox/testv2/testv2_d2018_05_20_t13_06_16/HITs.json\n"
     ]
    },
    {
     "data": {
      "text/plain": [
       "'/Users/michaellee/Dropbox (MIT)/MechanicalTurkExperiments/sandbox/testv2/testv2_d2018_05_20_t13_06_16'"
      ]
     },
     "execution_count": 70,
     "metadata": {},
     "output_type": "execute_result"
    }
   ],
   "source": [
    "reload(TurkMonitor)\n",
    "TurkMonitor.main.create_mechanical_turk_HIT(sessionPackages = SESSION_PACKAGE,\n",
    "                                            dir_prefix = 'testv2', PTAP_UPLOAD_BUCKET = 'ptap2mechanicalturk', sandbox = True)"
   ]
  },
  {
   "cell_type": "code",
   "execution_count": 89,
   "metadata": {},
   "outputs": [
    {
     "data": {
      "text/plain": [
       "<module 'TurkMonitor' from '/Users/michaellee/Dropbox (MIT)/TurkMonitor/TurkMonitor/__init__.pyc'>"
      ]
     },
     "execution_count": 89,
     "metadata": {},
     "output_type": "execute_result"
    },
    {
     "name": "stderr",
     "output_type": "stream",
     "text": [
      "Num assignments:   0%|          | 0/1 [00:00<?, ?it/s]"
     ]
    },
    {
     "name": "stdout",
     "output_type": "stream",
     "text": [
      "Will save behavior at /Users/michaellee/Dropbox (MIT)/MechanicalTurkExperiments/sandbox/testv2/testv2_d2018_05_20_t13_06_16/Behavior/raw\n",
      "\n",
      " ****************************\n"
     ]
    },
    {
     "name": "stderr",
     "output_type": "stream",
     "text": [
      "Num assignments: 100%|██████████| 1/1 [00:00<00:00,  6.22it/s]"
     ]
    },
    {
     "name": "stdout",
     "output_type": "stream",
     "text": [
      "\n",
      "\n",
      "\n",
      "DONE\n",
      "\n",
      "\n"
     ]
    },
    {
     "name": "stderr",
     "output_type": "stream",
     "text": [
      "\n"
     ]
    },
    {
     "data": {
      "text/plain": [
       "<TurkMonitor.utils.poll_utils.BatchPoller instance at 0x11b7da320>"
      ]
     },
     "execution_count": 89,
     "metadata": {},
     "output_type": "execute_result"
    }
   ],
   "source": [
    "reload(TurkMonitor)\n",
    "TurkMonitor.utils.poll_utils.poll('/Users/michaellee/Dropbox (MIT)/MechanicalTurkExperiments/sandbox/testv2/testv2_d2018_05_20_t13_06_16')"
   ]
  },
  {
   "cell_type": "code",
   "execution_count": 90,
   "metadata": {},
   "outputs": [],
   "source": [
    "SD = df_answers.iloc[0]['SESSION_DATA']"
   ]
  },
  {
   "cell_type": "code",
   "execution_count": 91,
   "metadata": {},
   "outputs": [
    {
     "data": {
      "text/plain": [
       "[u'TURK_MONITOR_METADATA',\n",
       " u'BOOTSTRAP_LOG',\n",
       " u'VERIFICATION_LOG',\n",
       " u'ENVIRONMENT',\n",
       " u'SESSION',\n",
       " u'REWARD_LOG',\n",
       " u'BEHAVIOR']"
      ]
     },
     "execution_count": 91,
     "metadata": {},
     "output_type": "execute_result"
    }
   ],
   "source": [
    "SD.keys()"
   ]
  },
  {
   "cell_type": "code",
   "execution_count": 92,
   "metadata": {},
   "outputs": [
    {
     "data": {
      "text/plain": [
       "[{u'action': [1, 0, 1, 0],\n",
       "  u'fixationX': [238.5, 216.5, 230.5, 221.5],\n",
       "  u'fixationY': [391.5, 369.5, 386.5, 385.5],\n",
       "  u'reactionTime': [653.43, 421.035, 710.465, 432.7],\n",
       "  u'responseX': [339.5, 138.5, 343.5, 126.5],\n",
       "  u'responseY': [369.5, 383.5, 385.5, 381.5],\n",
       "  u'return': [1, 1, 1, 1],\n",
       "  u'sampleBag': [u'stimulus_objectome_flute',\n",
       "   u'stimulus_objectome_pineapple',\n",
       "   u'stimulus_objectome_flute',\n",
       "   u'stimulus_objectome_pineapple'],\n",
       "  u'sampleIdKey': [u'flute2', u'pineapple1', u'flute2', u'pineapple1'],\n",
       "  u'timestampChoiceOn': [5260.805, 6629.485, 7746.335, 9115.325],\n",
       "  u'timestampFixationAcquired': [5071.035, 6442.875, 7556.72, 8918.43],\n",
       "  u'timestampFixationOnset': [728.925, 6128.09, 7262.615, 8664.605],\n",
       "  u'timestampReinforcementOff': [5914.94, 7050.93, 8457.175, 9548.475],\n",
       "  u'timestampReinforcementOn': [5914.875, 7050.875, 8457.135, 9548.415],\n",
       "  u'timestampResponse': [5914.235, 7050.52, 8456.8, 9548.025],\n",
       "  u'timestampStart': [5071.035, 6442.875, 7556.72, 8918.43],\n",
       "  u'timestampStimulusOff': [5260.805, 6629.485, 7746.335, 9115.325],\n",
       "  u'timestampStimulusOn': [5072.73, 6443.645, 7557.4, 8919.495],\n",
       "  u'trialNumberTask': [0, 1, 2, 3]}]"
      ]
     },
     "execution_count": 92,
     "metadata": {},
     "output_type": "execute_result"
    }
   ],
   "source": [
    "SD['BEHAVIOR']"
   ]
  },
  {
   "cell_type": "code",
   "execution_count": 93,
   "metadata": {},
   "outputs": [
    {
     "data": {
      "text/plain": [
       "{u'ENVIRONMENT_hash': 1093105693,\n",
       " u'GAME_PACKAGE_hash': 406780463,\n",
       " u'usingFailSafeHIT': False,\n",
       " u'verified': True}"
      ]
     },
     "execution_count": 93,
     "metadata": {},
     "output_type": "execute_result"
    }
   ],
   "source": [
    "SD['VERIFICATION_LOG']"
   ]
  },
  {
   "cell_type": "code",
   "execution_count": 94,
   "metadata": {},
   "outputs": [
    {
     "data": {
      "text/plain": [
       "{u'action_event_type': [u'mouseup', u'touchstart', u'touchmove'],\n",
       " u'bonusUSDPerCorrect': 0.0005,\n",
       " u'instructionsDialogueString': u'&lt;ul&gt;&lt;p&gt;&lt;text style=\"font-weight:bold; font-size:large\"&gt;Thank you for your interest and contributing to research at at MIT!&lt;/text&gt;&lt;pi&gt;&lt;li&gt;Please use the latest version of &lt;b&gt;Google Chrome&lt;/b&gt; to work on this HIT. It may not work correctly on other browsers.&lt;p&gt;&lt;li&gt;You will be presented with rapidly flashed images. &lt;b&gt;Your task is to figure out where to click on parts of the screen based on the information in the images.&lt;/b&gt;&lt;p&gt;&lt;li&gt;The sound of a bell means you did something right, and received a small bonus reward.&lt;p&gt;&lt;li&gt;Each trial begins with a &lt;b&gt;WHITE DOT&lt;/b&gt;. Click the dot to begin the trial.&lt;p&gt;&lt;li&gt;The HIT will submit &lt;b&gt;AUTOMATICALLY&lt;/b&gt; after a certain number of trials. If the HIT freezes or does not submit, please contact us to resolve the issue and receive compensation for your time.&lt;p&gt;&lt;text style=\"color:#7A7A7A; font-size:smaller; font-style:italic\"&gt;If you cannot meet these requirements or if doing so could cause discomfort or injury, do not accept this HIT. You will not be penalized in any way.&lt;/text&gt;&lt;/ul&gt;',\n",
       " u'juiceRewardPer1000Trials': 250,\n",
       " u'playspace_degreesVisualAngle': 24,\n",
       " u'playspace_verticalOffsetInches': 0,\n",
       " u'playspace_viewingDistanceInches': 8,\n",
       " u'primary_reinforcer_type': u'monetary',\n",
       " u'rigEnvironment': u'mechanicalturk',\n",
       " u'screen_virtualPixelsPerInch': 143.755902965}"
      ]
     },
     "execution_count": 94,
     "metadata": {},
     "output_type": "execute_result"
    }
   ],
   "source": [
    "SD[\"ENVIRONMENT\"]"
   ]
  },
  {
   "cell_type": "code",
   "execution_count": null,
   "metadata": {},
   "outputs": [],
   "source": []
  }
 ],
 "metadata": {
  "kernelspec": {
   "display_name": "Python 2",
   "language": "python",
   "name": "python2"
  },
  "language_info": {
   "codemirror_mode": {
    "name": "ipython",
    "version": 2
   },
   "file_extension": ".py",
   "mimetype": "text/x-python",
   "name": "python",
   "nbconvert_exporter": "python",
   "pygments_lexer": "ipython2",
   "version": "2.7.13"
  }
 },
 "nbformat": 4,
 "nbformat_minor": 2
}
